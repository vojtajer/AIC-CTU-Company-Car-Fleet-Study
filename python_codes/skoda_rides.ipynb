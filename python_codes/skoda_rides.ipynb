{
 "cells": [
  {
   "cell_type": "markdown",
   "metadata": {},
   "source": [
    "# Skoda Auto - rides\n",
    "\n",
    "This notebook uses Skoda rides data. The data covers movement of vehicles for work-related trips for period March to September 2019.\n",
    "\n",
    "TODO:\n",
    " "
   ]
  },
  {
   "cell_type": "code",
   "execution_count": null,
   "metadata": {
    "pycharm": {
     "is_executing": true
    }
   },
   "outputs": [],
   "source": [
    "%matplotlib inline"
   ]
  },
  {
   "cell_type": "code",
   "execution_count": 9,
   "metadata": {
    "pycharm": {
     "is_executing": false
    }
   },
   "outputs": [],
   "source": [
    "import urllib\n",
    "import os\n",
    "import pandas as pd\n",
    "import contextily as ctx\n",
    "from geopandas import GeoDataFrame, read_file\n",
    "from shapely.geometry import Point, LineString, Polygon\n",
    "from datetime import datetime, timedelta\n",
    "import matplotlib.pyplot as plt\n",
    "import psycopg2\n",
    "\n",
    "import datetime\n",
    "import sys\n",
    "sys.path.append(\"..\")\n",
    "import movingpandas as mp\n",
    "\n",
    "import warnings\n",
    "warnings.simplefilter(\"ignore\")"
   ]
  },
  {
   "cell_type": "markdown",
   "metadata": {},
   "source": [
    "## Area of interest: Europe"
   ]
  },
  {
   "cell_type": "code",
   "execution_count": null,
   "metadata": {
    "pycharm": {
     "is_executing": false
    }
   },
   "outputs": [],
   "source": [
    "ZOOM_LEVEL = 8\n",
    "w, s, e, n = 6, 43, 24, 54.5\n",
    "\n",
    "# check number of tiles that will be downloaded\n",
    "ctx.howmany(w, s, e, n, ZOOM_LEVEL, ll=True)\n",
    "\n",
    "# download tiles\n",
    "%time img, ext = ctx.bounds2img(w, s, e, n, ZOOM_LEVEL-1, ll=True)\n",
    "\n",
    "# plot map \n",
    "plt.rcParams['figure.figsize'] = (10,10)\n",
    "plt.imshow(img, extent=ext, aspect='auto')"
   ]
  },
  {
   "cell_type": "markdown",
   "metadata": {},
   "source": [
    "## Loading data from PostGIS db\n"
   ]
  },
  {
   "cell_type": "code",
   "execution_count": 4,
   "metadata": {
    "pycharm": {
     "is_executing": false
    }
   },
   "outputs": [],
   "source": [
    "con = psycopg2.connect(database=\"skoda-postgres\", user=\"root\", password=\"sumpr0ject\",\n",
    "    host=\"localhost\", port=35432)\n",
    "sql = \"SELECT * FROM points LIMIT 100000;\"\n",
    "# sql = \"SELECT * FROM rides WHERE carid IN ('524305','536208') AND datetime BETWEEN '2019-05-10' AND '2019-05-11';\"\n",
    "\n",
    "df = GeoDataFrame.from_postgis(sql, con, geom_col='geom' )"
   ]
  },
  {
   "cell_type": "markdown",
   "metadata": {},
   "source": [
    "Let's see what the data looks like:"
   ]
  },
  {
   "cell_type": "code",
   "execution_count": 5,
   "metadata": {
    "pycharm": {
     "is_executing": false
    }
   },
   "outputs": [
    {
     "data": {
      "text/html": [
       "<div>\n",
       "<style scoped>\n",
       "    .dataframe tbody tr th:only-of-type {\n",
       "        vertical-align: middle;\n",
       "    }\n",
       "\n",
       "    .dataframe tbody tr th {\n",
       "        vertical-align: top;\n",
       "    }\n",
       "\n",
       "    .dataframe thead th {\n",
       "        text-align: right;\n",
       "    }\n",
       "</style>\n",
       "<table border=\"1\" class=\"dataframe\">\n",
       "  <thead>\n",
       "    <tr style=\"text-align: right;\">\n",
       "      <th></th>\n",
       "      <th>carid</th>\n",
       "      <th>datetime</th>\n",
       "      <th>geometry</th>\n",
       "      <th>points</th>\n",
       "    </tr>\n",
       "  </thead>\n",
       "  <tbody>\n",
       "    <tr>\n",
       "      <td>0</td>\n",
       "      <td>524305</td>\n",
       "      <td>2019-05-02 10:15:32</td>\n",
       "      <td>POINT (14.91993 50.42321)</td>\n",
       "      <td>01010000002F6AF7AB00D72D401938A0A52B364940</td>\n",
       "    </tr>\n",
       "    <tr>\n",
       "      <td>1</td>\n",
       "      <td>524305</td>\n",
       "      <td>2019-05-02 10:15:46</td>\n",
       "      <td>POINT (14.92087 50.42309)</td>\n",
       "      <td>01010000006DAB59677CD72D400F26C5C727364940</td>\n",
       "    </tr>\n",
       "    <tr>\n",
       "      <td>2</td>\n",
       "      <td>524305</td>\n",
       "      <td>2019-05-02 10:16:11</td>\n",
       "      <td>POINT (14.92351 50.42245)</td>\n",
       "      <td>010100000015FE0C6FD6D82D40BB29E5B512364940</td>\n",
       "    </tr>\n",
       "    <tr>\n",
       "      <td>3</td>\n",
       "      <td>524305</td>\n",
       "      <td>2019-05-02 10:16:17</td>\n",
       "      <td>POINT (14.92433 50.42236)</td>\n",
       "      <td>01010000005CAFE94141D92D40BC9179E40F364940</td>\n",
       "    </tr>\n",
       "    <tr>\n",
       "      <td>4</td>\n",
       "      <td>524305</td>\n",
       "      <td>2019-05-02 10:16:41</td>\n",
       "      <td>POINT (14.92686 50.42150)</td>\n",
       "      <td>01010000006A12BC218DDA2D409B1DA9BEF3354940</td>\n",
       "    </tr>\n",
       "  </tbody>\n",
       "</table>\n",
       "</div>"
      ],
      "text/plain": [
       "    carid            datetime                   geometry  \\\n",
       "0  524305 2019-05-02 10:15:32  POINT (14.91993 50.42321)   \n",
       "1  524305 2019-05-02 10:15:46  POINT (14.92087 50.42309)   \n",
       "2  524305 2019-05-02 10:16:11  POINT (14.92351 50.42245)   \n",
       "3  524305 2019-05-02 10:16:17  POINT (14.92433 50.42236)   \n",
       "4  524305 2019-05-02 10:16:41  POINT (14.92686 50.42150)   \n",
       "\n",
       "                                       points  \n",
       "0  01010000002F6AF7AB00D72D401938A0A52B364940  \n",
       "1  01010000006DAB59677CD72D400F26C5C727364940  \n",
       "2  010100000015FE0C6FD6D82D40BB29E5B512364940  \n",
       "3  01010000005CAFE94141D92D40BC9179E40F364940  \n",
       "4  01010000006A12BC218DDA2D409B1DA9BEF3354940  "
      ]
     },
     "execution_count": 5,
     "metadata": {},
     "output_type": "execute_result"
    }
   ],
   "source": [
    "wgs84 = df.crs\n",
    "df.head()\n",
    "# df.dtypes"
   ]
  },
  {
   "cell_type": "code",
   "execution_count": 6,
   "metadata": {
    "pycharm": {
     "is_executing": false
    }
   },
   "outputs": [
    {
     "data": {
      "text/plain": [
       "<matplotlib.axes._subplots.AxesSubplot at 0x116128a58>"
      ]
     },
     "execution_count": 6,
     "metadata": {},
     "output_type": "execute_result"
    },
    {
     "data": {
      "image/png": "[encoded data removed]",
      "text/plain": [
       "<Figure size 432x288 with 1 Axes>"
      ]
     },
     "metadata": {
      "needs_background": "light"
     },
     "output_type": "display_data"
    }
   ],
   "source": [
    "df.plot(markersize=0.1, alpha=0.2)"
   ]
  },
  {
   "cell_type": "markdown",
   "metadata": {},
   "source": [
    "To convert the DataFrame to Trajectories we need to create a temporal index:"
   ]
  },
  {
   "cell_type": "code",
   "execution_count": 7,
   "metadata": {
    "pycharm": {
     "is_executing": false
    }
   },
   "outputs": [
    {
     "data": {
      "text/plain": [
       "pandas.core.series.Series"
      ]
     },
     "execution_count": 7,
     "metadata": {},
     "output_type": "execute_result"
    }
   ],
   "source": [
    "df['t'] = pd.to_datetime(df['datetime'], format='%d/%m/%Y %H:%M:%S')\n",
    "df = df.set_index('t')\n",
    "#df['carid']=df['carid'].astype(int)\n",
    "type(df['carid'])\n"
   ]
  },
  {
   "cell_type": "markdown",
   "metadata": {},
   "source": [
    "If we look at the data distributions, we can see that there are a lot of records with speed over ground (SOG) values of zero in this dataframe:"
   ]
  },
  {
   "cell_type": "code",
   "execution_count": null,
   "metadata": {
    "pycharm": {
     "is_executing": false
    }
   },
   "outputs": [],
   "source": [
    "start_day = min(df['datetime'])\n",
    "end_day = max(df['datetime'])\n",
    "print(start_day)\n",
    "print(end_day)\n",
    "df['datetime'].hist(bins=4000, figsize=(15,3))"
   ]
  },
  {
   "cell_type": "markdown",
   "metadata": {},
   "source": [
    "Let's get rid of these rows with zero SOG:"
   ]
  },
  {
   "cell_type": "code",
   "execution_count": null,
   "metadata": {
    "pycharm": {
     "is_executing": false
    }
   },
   "outputs": [],
   "source": [
    "df['carid'].value_counts().plot(kind='bar', figsize=(15,3))\n"
   ]
  },
  {
   "cell_type": "code",
   "execution_count": null,
   "metadata": {
    "pycharm": {
     "is_executing": false
    }
   },
   "outputs": [],
   "source": [
    "\n",
    "\n",
    "df['carid'].value_counts().hist(bins=50,figsize=(15,3))"
   ]
  },
  {
   "cell_type": "markdown",
   "metadata": {},
   "source": [
    "Finally, let's create trajectories:"
   ]
  },
  {
   "cell_type": "code",
   "execution_count": 8,
   "metadata": {
    "pycharm": {
     "is_executing": false
    }
   },
   "outputs": [
    {
     "ename": "NameError",
     "evalue": "name 'mp' is not defined",
     "output_type": "error",
     "traceback": [
      "\u001b[0;31m---------------------------------------------------------------------------\u001b[0m",
      "\u001b[0;31mNameError\u001b[0m                                 Traceback (most recent call last)",
      "\u001b[0;32m<ipython-input-8-6b4abf03d0be>\u001b[0m in \u001b[0;36m<module>\u001b[0;34m\u001b[0m\n\u001b[1;32m     10\u001b[0m     \u001b[0;32mif\u001b[0m \u001b[0mlen\u001b[0m\u001b[0;34m(\u001b[0m\u001b[0mvalues\u001b[0m\u001b[0;34m)\u001b[0m \u001b[0;34m<\u001b[0m \u001b[0;36m2\u001b[0m\u001b[0;34m:\u001b[0m\u001b[0;34m\u001b[0m\u001b[0;34m\u001b[0m\u001b[0m\n\u001b[1;32m     11\u001b[0m         \u001b[0;32mcontinue\u001b[0m\u001b[0;34m\u001b[0m\u001b[0;34m\u001b[0m\u001b[0m\n\u001b[0;32m---> 12\u001b[0;31m     \u001b[0mtrajectory\u001b[0m \u001b[0;34m=\u001b[0m \u001b[0mmp\u001b[0m\u001b[0;34m.\u001b[0m\u001b[0mTrajectory\u001b[0m\u001b[0;34m(\u001b[0m\u001b[0mkey\u001b[0m\u001b[0;34m,\u001b[0m \u001b[0mvalues\u001b[0m\u001b[0;34m)\u001b[0m\u001b[0;34m\u001b[0m\u001b[0;34m\u001b[0m\u001b[0m\n\u001b[0m\u001b[1;32m     13\u001b[0m     \u001b[0;32mif\u001b[0m \u001b[0mtrajectory\u001b[0m\u001b[0;34m.\u001b[0m\u001b[0mget_length\u001b[0m\u001b[0;34m(\u001b[0m\u001b[0;34m)\u001b[0m \u001b[0;34m<\u001b[0m \u001b[0mMIN_LENGTH\u001b[0m\u001b[0;34m:\u001b[0m\u001b[0;34m\u001b[0m\u001b[0;34m\u001b[0m\u001b[0m\n\u001b[1;32m     14\u001b[0m         \u001b[0;32mcontinue\u001b[0m\u001b[0;34m\u001b[0m\u001b[0;34m\u001b[0m\u001b[0m\n",
      "\u001b[0;31mNameError\u001b[0m: name 'mp' is not defined"
     ]
    }
   ],
   "source": [
    "MIN_LENGTH = 100 # meters\n",
    "\n",
    "#t_start = datetime.now()\n",
    "\n",
    "\n",
    "trajectories = []\n",
    "generalized_trajs = []\n",
    "            \n",
    "for key, values in df.groupby(['carid']):\n",
    "    if len(values) < 2:\n",
    "        continue\n",
    "    trajectory = mp.Trajectory(key, values)\n",
    "    if trajectory.get_length() < MIN_LENGTH:\n",
    "        continue\n",
    "#     print(trajectory)\n",
    "    trajectories.append(trajectory)\n",
    "    generalized_trajs.append(trajectory.generalize(mode='douglas-peucker', tolerance=0.001)) #(mode='min-time-delta', tolerance=timedelta(minutes=5))\n",
    "\n",
    "print(\"Finished creating {} trajectories in \".format(len(trajectories)))"
   ]
  },
  {
   "cell_type": "markdown",
   "metadata": {},
   "source": [
    "## Plotting trajectories\n",
    "\n",
    "Let's give the most common ship types distinct colors. The remaining ones will be just grey:"
   ]
  },
  {
   "cell_type": "code",
   "execution_count": null,
   "metadata": {
    "pycharm": {
     "is_executing": false
    }
   },
   "outputs": [],
   "source": [
    "def plot_car_trajectories(trajs):\n",
    "    shiptype_to_color = {\n",
    "        'Passenger': 'blue', \n",
    "        'HSC': 'green', \n",
    "        'Tanker': 'red',\n",
    "        'Cargo': 'orange'}\n",
    "    default_color = 'blue'\n",
    "\n",
    "    ax = None\n",
    "    for traj in trajs:\n",
    "#         ship_type = traj.df['ShipType'].iloc[0]\n",
    "        ship_type = None\n",
    "\n",
    "        try:\n",
    "            ship_color = shiptype_to_color[ship_type]\n",
    "        except KeyError:\n",
    "            ship_color = default_color\n",
    "\n",
    "        if ax is None:\n",
    "            ax = traj.plot(linewidth=1, capstyle='round', column='Name', legend=True, figsize=(12,9), color=ship_color)\n",
    "        else:\n",
    "            traj.plot(ax=ax, linewidth=1, capstyle='round', column='Name', legend=True, figsize=(12,9), color=ship_color) "
   ]
  },
  {
   "cell_type": "code",
   "execution_count": null,
   "metadata": {
    "pycharm": {
     "is_executing": false
    }
   },
   "outputs": [],
   "source": [
    "%%time\n",
    "plot_car_trajectories(trajectories)"
   ]
  },
  {
   "cell_type": "code",
   "execution_count": null,
   "metadata": {
    "pycharm": {
     "is_executing": false
    }
   },
   "outputs": [],
   "source": [
    "%%time\n",
    "plot_car_trajectories(generalized_trajs)"
   ]
  },
  {
   "cell_type": "markdown",
   "metadata": {},
   "source": [
    "## Visualizing trajectory properties"
   ]
  },
  {
   "cell_type": "markdown",
   "metadata": {},
   "source": [
    "We can also plot individual trajectories to better visualize their properties, such as the changes in NavStatus:"
   ]
  },
  {
   "cell_type": "code",
   "execution_count": null,
   "metadata": {
    "pycharm": {
     "is_executing": false
    }
   },
   "outputs": [],
   "source": [
    "my_traj = trajectories[0]\n",
    "my_traj.df.head()"
   ]
  },
  {
   "cell_type": "code",
   "execution_count": null,
   "metadata": {
    "pycharm": {
     "is_executing": false
    }
   },
   "outputs": [],
   "source": [
    "my_traj.df.tail()"
   ]
  },
  {
   "cell_type": "code",
   "execution_count": null,
   "metadata": {
    "pycharm": {
     "is_executing": false
    }
   },
   "outputs": [],
   "source": [
    "ZOOM_LEVEL = 10  # don't increase to ZOOM_LEVEL >= 15 because this causes a tile not found 404 error\n",
    "my_traj.plot(with_basemap=True, linewidth=5.0, capstyle='round', column='speed', legend=True, \n",
    "                          figsize=(9,9), url=ctx.sources.ST_TERRAIN, zoom=ZOOM_LEVEL) "
   ]
  },
  {
   "cell_type": "markdown",
   "metadata": {},
   "source": [
    "Note: When plotting with basemap, you may run into missing map tiles. For Stamen, you can check map tile availability for a region and zoom level at http://maps.stamen.com/#terrain/15/57.6714/11.8120\n",
    "\n",
    "Available tile sources are listed in https://github.com/darribas/contextily/blob/master/contextily/tile_providers.py, e.g.\n",
    "\n",
    "```\n",
    "ST_TONER = 'http://tile.stamen.com/toner/{z}/{x}/{y}.png'\n",
    "ST_TONER_HYBRID = 'http://tile.stamen.com/toner-hybrid/{z}/{x}/{y}.png'\n",
    "ST_TONER_LABELS = 'http://tile.stamen.com/toner-labels/{z}/{x}/{y}.png'\n",
    "ST_TONER_LINES = 'http://tile.stamen.com/toner-lines/{z}/{x}/{y}.png'\n",
    "ST_TONER_BACKGROUND = 'http://tile.stamen.com/toner-background/{z}/{x}/{y}.png'\n",
    "ST_TONER_LITE = 'http://tile.stamen.com/toner-lite/{z}/{x}/{y}.png'\n",
    "\n",
    "ST_TERRAIN = 'http://tile.stamen.com/terrain/{z}/{x}/{y}.png'\n",
    "ST_TERRAIN_LABELS = 'http://tile.stamen.com/terrain-labels/{z}/{x}/{y}.png'\n",
    "ST_TERRAIN_LINES = 'http://tile.stamen.com/terrain-lines/{z}/{x}/{y}.png'\n",
    "ST_TERRAIN_BACKGROUND = 'http://tile.stamen.com/terrain-background/{z}/{x}/{y}.png'\n",
    "\n",
    "ST_WATERCOLOR = 'http://tile.stamen.com/watercolor/{z}/{x}/{y}.png'\n",
    "```\n",
    "\n",
    "More on plotting GeoPandas GeoDataframes: http://geopandas.org/gallery/plotting_basemap_background.html"
   ]
  },
  {
   "cell_type": "markdown",
   "metadata": {},
   "source": [
    "## Finding ships passing under Älvsborgsbron bridge - USELESS\n",
    "We can find ships passing under the bridge based on trajectory intersections with the bridge area."
   ]
  },
  {
   "cell_type": "code",
   "execution_count": null,
   "metadata": {
    "pycharm": {
     "is_executing": false
    }
   },
   "outputs": [],
   "source": [
    "area_of_interest = Polygon([(\n",
    "              14.924583435058592,\n",
    "              50.43126756156562),\n",
    "            (\n",
    "              14.918060302734375,\n",
    "              50.420495471498114\n",
    "            ),\n",
    "            (\n",
    "              14.938144683837889,\n",
    "              50.413330948495485\n",
    "            ),\n",
    "            (\n",
    "              14.941835403442383,\n",
    "              50.42558107823979\n",
    "            ),\n",
    "            (\n",
    "              14.924583435058592,\n",
    "              50.43126756156562\n",
    "            )])"
   ]
  },
  {
   "cell_type": "code",
   "execution_count": null,
   "metadata": {
    "pycharm": {
     "is_executing": false
    }
   },
   "outputs": [],
   "source": [
    "intersections = []\n",
    "for traj in trajectories:\n",
    "    if traj.to_linestring().intersects(area_of_interest):\n",
    "        intersections.append(traj)\n",
    "print(\"Found {} intersections\".format(len(intersections)))"
   ]
  },
  {
   "cell_type": "code",
   "execution_count": null,
   "metadata": {
    "pycharm": {
     "is_executing": false
    }
   },
   "outputs": [],
   "source": [
    "bridge_traj = intersections[3]\n",
    "bridge_traj.plot(with_basemap=True, linewidth=5, capstyle='round', column='carid', legend=True,\n",
    "                          figsize=(9,9), url=ctx.sources.ST_TERRAIN, zoom=ZOOM_LEVEL) "
   ]
  },
  {
   "cell_type": "code",
   "execution_count": null,
   "metadata": {
    "pycharm": {
     "is_executing": false
    }
   },
   "outputs": [],
   "source": [
    "bridge_traj.df.head()"
   ]
  },
  {
   "cell_type": "markdown",
   "metadata": {},
   "source": [
    "## Identifying trip origins and destinations"
   ]
  },
  {
   "cell_type": "markdown",
   "metadata": {},
   "source": [
    "Since AIS records with a speed over ground (SOG) value of zero have been removed from the dataset, we can use the `split_by_observation_gap()` function to split the continuous observations into individual trips:"
   ]
  },
  {
   "cell_type": "code",
   "execution_count": null,
   "metadata": {
    "pycharm": {
     "is_executing": false
    }
   },
   "outputs": [],
   "source": [
    "trips = []\n",
    "for traj in trajectories:\n",
    "    for x in traj.split_by_observation_gap(timedelta(minutes=5)):\n",
    "        if x.get_length() > MIN_LENGTH:\n",
    "            trips.append(x)\n",
    "print(\"Extracted {} individual trips from {} continuous car tracks\".format(len(trips), len(trajectories)))"
   ]
  },
  {
   "cell_type": "markdown",
   "metadata": {},
   "source": [
    "*Note: Splitting continous observations by observation gap is a straightforward way to extract individual trips. More sophisticated approaches require stop detection methods that do not require extended periods of time where the speed is at zero. MovingPandas so far does not implement such stop detection functions.*"
   ]
  },
  {
   "cell_type": "markdown",
   "metadata": {},
   "source": [
    "Let's plot the resulting trips!"
   ]
  },
  {
   "cell_type": "code",
   "execution_count": null,
   "metadata": {
    "pycharm": {
     "is_executing": false
    }
   },
   "outputs": [],
   "source": [
    "%%time\n",
    "plot_car_trajectories(trips)"
   ]
  },
  {
   "cell_type": "markdown",
   "metadata": {},
   "source": [
    "Compared to plotting the original continuous observations, this visualization is much cleaner because there are no artifacts at the border of the area of interest. "
   ]
  },
  {
   "cell_type": "markdown",
   "metadata": {},
   "source": [
    "Next, let's get the trip origins:"
   ]
  },
  {
   "cell_type": "code",
   "execution_count": null,
   "metadata": {
    "pycharm": {
     "is_executing": false
    }
   },
   "outputs": [],
   "source": [
    "origins = []\n",
    "for trip in trips:\n",
    "    origins.append({'geometry': trip.get_start_location(), 'id': trip.id, \n",
    "                    'carid': trip.df.head(1)['carid'][0],'datetime': trip.get_start_time()})\n",
    "origins = GeoDataFrame(pd.DataFrame(origins), crs=wgs84)"
   ]
  },
  {
   "cell_type": "code",
   "execution_count": null,
   "metadata": {
    "pycharm": {
     "is_executing": false
    },
    "scrolled": true
   },
   "outputs": [],
   "source": [
    "ax = origins.to_crs(epsg=3857).plot(column='carid', legend=True, figsize=(6,6))\n",
    "ctx.add_basemap(ax, url=ctx.sources.ST_TERRAIN, zoom=ZOOM_LEVEL)"
   ]
  },
  {
   "cell_type": "markdown",
   "metadata": {},
   "source": [
    "In our data sample, trip origins can be:\n",
    "- When a ship departs its anchoring location and the speed changes from 0 to >0\n",
    "- When a ship trajectory first enters the observation area"
   ]
  },
  {
   "cell_type": "code",
   "execution_count": null,
   "metadata": {
    "pycharm": {
     "is_executing": false
    }
   },
   "outputs": [],
   "source": [
    "ax = origins.to_crs(epsg=3857).plot(column='carid', legend=True, figsize=(9,6))\n",
    "ctx.add_basemap(ax, url=ctx.sources.ST_TERRAIN, zoom=ZOOM_LEVEL)"
   ]
  },
  {
   "cell_type": "markdown",
   "metadata": {},
   "source": [
    "Let's get trip destinations:"
   ]
  },
  {
   "cell_type": "code",
   "execution_count": null,
   "metadata": {
    "pycharm": {
     "is_executing": false
    }
   },
   "outputs": [],
   "source": [
    "destinations = []\n",
    "for trip in trips:\n",
    "    destinations.append({'geom': trip.get_end_location(), 'id': trip.id, \n",
    "                    'carid': trip.df.head(1)['carid'][0],'datetime': trip.get_end_time()})\n",
    "destinations = GeoDataFrame(pd.DataFrame(destinations), crs=wgs84)"
   ]
  },
  {
   "cell_type": "code",
   "execution_count": null,
   "metadata": {
    "pycharm": {
     "is_executing": false
    }
   },
   "outputs": [],
   "source": [
    "ax = destinations.to_crs(epsg=3857).plot(column='carid', legend=True, figsize=(6,6))\n",
    "ctx.add_basemap(ax, url=ctx.sources.ST_TERRAIN, zoom=ZOOM_LEVEL)"
   ]
  },
  {
   "cell_type": "markdown",
   "metadata": {},
   "source": [
    "## Movement around Mlada Boleslav"
   ]
  },
  {
   "cell_type": "code",
   "execution_count": null,
   "metadata": {
    "pycharm": {
     "is_executing": false
    }
   },
   "outputs": [],
   "source": [
    "# area in 10km proximity of Mlada Boleslav\n",
    "area_MB = Polygon([(\n",
    "              14.826675,          \n",
    "              50.483558\n",
    "            ),\n",
    "            (\n",
    "              14.824272,\n",
    "              50.368292\n",
    "            ),\n",
    "            (\n",
    "              15.018936,\n",
    "              50.338281\n",
    "            ),\n",
    "            (\n",
    "              15.028549,\n",
    "              50.477004\n",
    "            )])"
   ]
  },
  {
   "cell_type": "code",
   "execution_count": null,
   "metadata": {
    "pycharm": {
     "is_executing": false
    }
   },
   "outputs": [],
   "source": [
    "foundTrips = []\n",
    "for traj in trips:\n",
    "    if traj.get_start_location().intersects(area_MB):\n",
    "        foundTrips.append(traj)\n",
    "print(\"Found {} trips starting from MB\".format(len(foundTrips)))"
   ]
  },
  {
   "cell_type": "code",
   "execution_count": null,
   "metadata": {
    "pycharm": {
     "is_executing": false
    }
   },
   "outputs": [],
   "source": [
    "plot_car_trajectories(foundTrips)"
   ]
  },
  {
   "cell_type": "code",
   "execution_count": null,
   "metadata": {
    "pycharm": {
     "is_executing": false
    }
   },
   "outputs": [],
   "source": [
    "foundTrips[1].plot(with_basemap=True, linewidth=5.0, capstyle='round', column='speed', legend=True, \n",
    "                          figsize=(9,9), url=ctx.sources.ST_TERRAIN, zoom=ZOOM_LEVEL) "
   ]
  },
  {
   "cell_type": "markdown",
   "metadata": {},
   "source": [
    "## Finding vehicles that depart from Karlovo namesti CTU"
   ]
  },
  {
   "cell_type": "code",
   "execution_count": null,
   "metadata": {
    "pycharm": {
     "is_executing": false
    }
   },
   "outputs": [],
   "source": [
    "# karlovo namesti CVUT areal\n",
    "area_of_interest = Polygon([(\n",
    "              14.416846632957458,\n",
    "              50.076604219275936\n",
    "),\n",
    "            (\n",
    "              14.416674971580505,\n",
    "              50.076490610564875\n",
    "            ),\n",
    "            (\n",
    "              14.416835904121399,\n",
    "              50.07602584485287\n",
    "            ),\n",
    "            (\n",
    "              14.418354034423826,\n",
    "              50.07610502747774\n",
    "            ),\n",
    "            (\n",
    "              14.41826283931732,\n",
    "              50.07671094236533\n",
    "            ),\n",
    "            (\n",
    "              14.416846632957458,\n",
    "              50.076604219275936\n",
    "            )])"
   ]
  },
  {
   "cell_type": "markdown",
   "metadata": {},
   "source": [
    "We can identify cars that start their trip within a given area of interest by intersecting trip starting locations with our area of interest:"
   ]
  },
  {
   "cell_type": "code",
   "execution_count": null,
   "metadata": {
    "pycharm": {
     "is_executing": false
    }
   },
   "outputs": [],
   "source": [
    "departures = []\n",
    "for traj in trips:\n",
    "    if traj.get_start_location().intersects(area_of_interest):\n",
    "        departures.append(traj)\n",
    "print(\"Found {} departures\".format(len(departures)))"
   ]
  },
  {
   "cell_type": "code",
   "execution_count": null,
   "metadata": {
    "pycharm": {
     "is_executing": false
    }
   },
   "outputs": [],
   "source": [
    "departures[1].plot(with_basemap=True, linewidth=5, capstyle='round', column='carid', legend=True,\n",
    "                          figsize=(9,9), url=ctx.sources.ST_TERRAIN, zoom=ZOOM_LEVEL) "
   ]
  },
  {
   "cell_type": "markdown",
   "metadata": {},
   "source": [
    "Let's see what kind of ships depart from here:"
   ]
  },
  {
   "cell_type": "code",
   "execution_count": null,
   "metadata": {
    "pycharm": {
     "is_executing": false
    }
   },
   "outputs": [],
   "source": [
    "for traj in departures:\n",
    "    print(\"{} Car '{}' departed at {}\".format(traj.df['ShipType'].iloc[0], traj.df['Name'].iloc[0], traj.get_start_time()))"
   ]
  },
  {
   "cell_type": "markdown",
   "metadata": {},
   "source": [
    "Of course, the same works for arrivals:"
   ]
  },
  {
   "cell_type": "code",
   "execution_count": null,
   "metadata": {
    "pycharm": {
     "is_executing": false
    }
   },
   "outputs": [],
   "source": [
    "arrivals = []\n",
    "for traj in trips:\n",
    "    if traj.get_end_location().intersects(area_of_interest):\n",
    "        arrivals.append(traj)\n",
    "print(\"Found {} arrivals\".format(len(arrivals)))\n",
    "\n",
    "for traj in arrivals:\n",
    "    print(\"{} car '{}' arrived at {}\".format(traj.df['carid'].iloc[0], traj.df['carid'].iloc[0], traj.get_end_time()))"
   ]
  },
  {
   "cell_type": "markdown",
   "metadata": {},
   "source": [
    "## Additional statistics"
   ]
  },
  {
   "cell_type": "markdown",
   "metadata": {},
   "source": [
    "### Speed"
   ]
  },
  {
   "cell_type": "code",
   "execution_count": null,
   "metadata": {
    "pycharm": {
     "is_executing": false
    }
   },
   "outputs": [],
   "source": [
    "#Avg speed in km/h\n",
    "avgSpeed = []\n",
    "for trajectory in trips:\n",
    "    trajectory.add_speed(overwrite=True)\n",
    "    avgSpeed.append((sum(trajectory.df.speed)/trajectory.df.speed.size)*3.6)"
   ]
  },
  {
   "cell_type": "code",
   "execution_count": null,
   "metadata": {
    "pycharm": {
     "is_executing": false
    }
   },
   "outputs": [],
   "source": [
    "trajectories[3].get_length()/1000"
   ]
  },
  {
   "cell_type": "code",
   "execution_count": null,
   "metadata": {
    "pycharm": {
     "is_executing": false
    }
   },
   "outputs": [],
   "source": [
    "type(trajectories[0])"
   ]
  },
  {
   "cell_type": "code",
   "execution_count": null,
   "metadata": {
    "pycharm": {
     "is_executing": false
    }
   },
   "outputs": [],
   "source": [
    "print(\"Trajectories of \" +  str(len(df.carid.unique())) + \" unique users\")\n",
    "\n"
   ]
  },
  {
   "cell_type": "code",
   "execution_count": null,
   "metadata": {
    "pycharm": {
     "is_executing": false
    }
   },
   "outputs": [],
   "source": [
    "distances = [] #in km\n",
    "durations = []\n",
    "for trip in trips:\n",
    "    distances.append(trip.get_length()/1000)\n",
    "    durations.append(int(trip.get_duration()))\n",
    "totalDistance = sum(distances)\n",
    "\n",
    "print(\"Total traveled distance \" + str(totalDistance))\n"
   ]
  },
  {
   "cell_type": "code",
   "execution_count": null,
   "metadata": {
    "pycharm": {
     "is_executing": false
    }
   },
   "outputs": [],
   "source": [
    "totalDuration = sum(durations, datetime.timedelta(0))\n",
    "totalDuration"
   ]
  },
  {
   "cell_type": "code",
   "execution_count": null,
   "metadata": {
    "pycharm": {
     "is_executing": false
    }
   },
   "outputs": [],
   "source": []
  },
  {
   "cell_type": "code",
   "execution_count": null,
   "metadata": {
    "pycharm": {
     "is_executing": false
    }
   },
   "outputs": [],
   "source": []
  }
 ],
 "metadata": {
  "kernelspec": {
   "display_name": "Python 3",
   "language": "python",
   "name": "python3"
  }
 },
 "nbformat": 4,
 "nbformat_minor": 4
}
